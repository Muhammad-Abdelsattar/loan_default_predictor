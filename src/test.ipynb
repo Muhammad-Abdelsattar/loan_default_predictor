{
 "cells": [
  {
   "cell_type": "code",
   "execution_count": 1,
   "metadata": {},
   "outputs": [
    {
     "name": "stdout",
     "output_type": "stream",
     "text": [
      "/teamspace/studios/this_studio/Projects/loan_default_predictor/src\n"
     ]
    }
   ],
   "source": [
    "%cd Projects/loan_default_predictor/src"
   ]
  },
  {
   "cell_type": "code",
   "execution_count": 2,
   "metadata": {},
   "outputs": [],
   "source": [
    "from data.preprocessing import *\n",
    "from data.cleaning import *\n",
    "from data.utils import *\n",
    "from modeling.model_factory import *\n",
    "from modeling.utils import *\n",
    "from training.training import *\n",
    "from training.utils import *\n",
    "from evaluation.evaluation import *\n",
    "from evaluation.utils import *"
   ]
  },
  {
   "cell_type": "code",
   "execution_count": 3,
   "metadata": {},
   "outputs": [],
   "source": [
    "train_data = pd.read_csv(\"/teamspace/studios/this_studio/Projects/loan_default_predictor/input/train.csv\")\n",
    "test_data = pd.read_csv(\"/teamspace/studios/this_studio/Projects/loan_default_predictor/input/test.csv\")"
   ]
  },
  {
   "cell_type": "code",
   "execution_count": 4,
   "metadata": {},
   "outputs": [],
   "source": [
    "t = [\n",
    "    (\"rate_of_interest\",\"total_units\"),\n",
    "    (\"income\",\"total_units\"),\n",
    "    (\"Interest_rate_spread\",\"loan_type\"),\n",
    "    (\"Upfront_charges\",\"total_units\"),\n",
    "    (\"term\",\"total_units\"),\n",
    "    (\"dtir1\",\"total_units\"),\n",
    "    (\"property_value\",\"loan_type\"),\n",
    "    (\"LTV\",\"loan_type\")\n",
    "    ]"
   ]
  },
  {
   "cell_type": "code",
   "execution_count": 5,
   "metadata": {},
   "outputs": [],
   "source": [
    "clean_train, cols_to_drop, num_imp, cat_imp = clean_training_data(train_data,0.95,t)"
   ]
  },
  {
   "cell_type": "code",
   "execution_count": 6,
   "metadata": {},
   "outputs": [],
   "source": [
    "clean_test = clean_test_data(test_data,cols_to_drop,num_imp,cat_imp)"
   ]
  },
  {
   "cell_type": "code",
   "execution_count": 7,
   "metadata": {},
   "outputs": [],
   "source": [
    "train_data_dict = split_features_label(data=clean_train, label_name=\"Status\")\n",
    "test_data_dict = split_features_label(data=clean_test, label_name=\"Status\")"
   ]
  },
  {
   "cell_type": "code",
   "execution_count": 8,
   "metadata": {},
   "outputs": [],
   "source": [
    "prepro_config = {\"numerical\":{\"MinMax\":[\"Credit_Score\",\"term\"],\n",
    "\"StandardScaler\":[\"rate_of_interest\",\"Interest_rate_spread\",\"dtir1\"],\n",
    "\"PowerTransformer\":[\"loan_amount\",\"LTV\",\"property_value\",\"income\",\"Upfront_charges\"]},\n",
    "\"categorical\":{\"OneHotEncoder\":['loan_limit', 'Gender', 'approv_in_adv', 'loan_type', 'loan_purpose',\n",
    "       'Credit_Worthiness', 'open_credit', 'business_or_commercial',\n",
    "       'Neg_ammortization', 'interest_only', 'lump_sum_payment',\n",
    "       'construction_type', 'occupancy_type', 'Secured_by', 'total_units',\n",
    "       'credit_type', 'co-applicant_credit_type', 'age',\n",
    "       'submission_of_application', 'Region', 'Security_Type']}}"
   ]
  },
  {
   "cell_type": "code",
   "execution_count": 9,
   "metadata": {},
   "outputs": [],
   "source": [
    "preprocessor = build_preprocessor(prepro_config)"
   ]
  },
  {
   "cell_type": "code",
   "execution_count": 10,
   "metadata": {},
   "outputs": [],
   "source": [
    "model_config = {\"name\":\"XGB\",\"params\":{\"n_estimators\": 100,\n",
    "            \"num_leaves\": 8,\n",
    "            \"max_leaves\": 8,\n",
    "            \"random_state\":1,\n",
    "            \"max_depth\": 5}}"
   ]
  },
  {
   "cell_type": "code",
   "execution_count": 11,
   "metadata": {},
   "outputs": [],
   "source": [
    "model = build_model(model_config)"
   ]
  },
  {
   "cell_type": "code",
   "execution_count": 12,
   "metadata": {},
   "outputs": [
    {
     "name": "stderr",
     "output_type": "stream",
     "text": [
      "/home/zeus/miniconda3/envs/cloudspace/lib/python3.10/site-packages/xgboost/core.py:160: UserWarning: [09:10:39] WARNING: /workspace/src/learner.cc:742: \n",
      "Parameters: { \"num_leaves\" } are not used.\n",
      "\n",
      "  warnings.warn(smsg, UserWarning)\n",
      "/home/zeus/miniconda3/envs/cloudspace/lib/python3.10/site-packages/xgboost/core.py:160: UserWarning: [09:10:43] WARNING: /workspace/src/learner.cc:742: \n",
      "Parameters: { \"num_leaves\" } are not used.\n",
      "\n",
      "  warnings.warn(smsg, UserWarning)\n",
      "/home/zeus/miniconda3/envs/cloudspace/lib/python3.10/site-packages/xgboost/core.py:160: UserWarning: [09:10:47] WARNING: /workspace/src/learner.cc:742: \n",
      "Parameters: { \"num_leaves\" } are not used.\n",
      "\n",
      "  warnings.warn(smsg, UserWarning)\n",
      "/home/zeus/miniconda3/envs/cloudspace/lib/python3.10/site-packages/xgboost/core.py:160: UserWarning: [09:10:51] WARNING: /workspace/src/learner.cc:742: \n",
      "Parameters: { \"num_leaves\" } are not used.\n",
      "\n",
      "  warnings.warn(smsg, UserWarning)\n",
      "/home/zeus/miniconda3/envs/cloudspace/lib/python3.10/site-packages/xgboost/core.py:160: UserWarning: [09:10:54] WARNING: /workspace/src/learner.cc:742: \n",
      "Parameters: { \"num_leaves\" } are not used.\n",
      "\n",
      "  warnings.warn(smsg, UserWarning)\n",
      "/home/zeus/miniconda3/envs/cloudspace/lib/python3.10/site-packages/xgboost/core.py:160: UserWarning: [09:10:59] WARNING: /workspace/src/learner.cc:742: \n",
      "Parameters: { \"num_leaves\" } are not used.\n",
      "\n",
      "  warnings.warn(smsg, UserWarning)\n"
     ]
    }
   ],
   "source": [
    "pipeline, score = train(train_data_dict,preprocessor,model,5,\"f1\")"
   ]
  },
  {
   "cell_type": "code",
   "execution_count": 13,
   "metadata": {},
   "outputs": [],
   "source": [
    "o = evaluate(pipeline,test_data_dict)"
   ]
  },
  {
   "cell_type": "code",
   "execution_count": 14,
   "metadata": {},
   "outputs": [
    {
     "data": {
      "text/plain": [
       "{'accuracy': 0.9999663684670748,\n",
       " 'recall': 1.0,\n",
       " 'precision': 0.999862618491551,\n",
       " 'f1_score': 0.9999313045270316,\n",
       " 'AUC': 0.9999777342358389}"
      ]
     },
     "execution_count": 14,
     "metadata": {},
     "output_type": "execute_result"
    }
   ],
   "source": [
    "o"
   ]
  },
  {
   "cell_type": "code",
   "execution_count": null,
   "metadata": {},
   "outputs": [],
   "source": []
  }
 ],
 "metadata": {
  "kernelspec": {
   "display_name": "Python 3",
   "language": "python",
   "name": "python3"
  },
  "language_info": {
   "codemirror_mode": {
    "name": "ipython",
    "version": 3
   },
   "file_extension": ".py",
   "mimetype": "text/x-python",
   "name": "python",
   "nbconvert_exporter": "python",
   "pygments_lexer": "ipython3",
   "version": "3.10.10"
  },
  "orig_nbformat": 4
 },
 "nbformat": 4,
 "nbformat_minor": 2
}
